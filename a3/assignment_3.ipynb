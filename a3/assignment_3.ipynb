{
 "cells": [
  {
   "cell_type": "markdown",
   "source": [
    "# Lab 3"
   ],
   "metadata": {
    "collapsed": false
   }
  },
  {
   "cell_type": "markdown",
   "source": [
    "### Simon Jasansky"
   ],
   "metadata": {
    "collapsed": false
   }
  },
  {
   "cell_type": "code",
   "execution_count": 54,
   "outputs": [],
   "source": [
    "import pandas as pd\n",
    "import numpy as np\n",
    "import matplotlib.pyplot as plt\n",
    "import seaborn as sns\n",
    "\n",
    "#import data\n",
    "df = pd.read_csv(\"data/caravan.csv\")"
   ],
   "metadata": {
    "collapsed": false
   }
  },
  {
   "cell_type": "code",
   "execution_count": 55,
   "outputs": [
    {
     "data": {
      "text/plain": "<Figure size 432x288 with 1 Axes>",
      "image/png": "[encoded data removed]"
     },
     "metadata": {
      "needs_background": "light"
     },
     "output_type": "display_data"
    },
    {
     "name": "stdout",
     "output_type": "stream",
     "text": [
      "Positive instances: 348\n",
      "Negative instances: 5474\n"
     ]
    },
    {
     "data": {
      "text/plain": "                                               count       mean        std  \\\nCustomer Subtype                              5822.0  24.253349  12.846706   \nNumber of houses                              5822.0   1.110615   0.405842   \nAvg size household                            5822.0   2.678805   0.789835   \nAvg Age                                       5822.0   2.991240   0.814589   \nCustomer main type                            5822.0   5.773617   2.856760   \n...                                              ...        ...        ...   \nNumber of boat policies                       5822.0   0.006012   0.081632   \nNumber of bicycle policies                    5822.0   0.031776   0.210986   \nNumber of property insurance policies         5822.0   0.007901   0.090463   \nNumber of social security insurance policies  5822.0   0.014256   0.119996   \nCARAVAN POLICY                                5822.0   0.059773   0.237087   \n\n                                              min   25%   50%   75%   max  \nCustomer Subtype                              1.0  10.0  30.0  35.0  41.0  \nNumber of houses                              1.0   1.0   1.0   1.0  10.0  \nAvg size household                            1.0   2.0   3.0   3.0   5.0  \nAvg Age                                       1.0   2.0   3.0   3.0   6.0  \nCustomer main type                            1.0   3.0   7.0   8.0  10.0  \n...                                           ...   ...   ...   ...   ...  \nNumber of boat policies                       0.0   0.0   0.0   0.0   2.0  \nNumber of bicycle policies                    0.0   0.0   0.0   0.0   3.0  \nNumber of property insurance policies         0.0   0.0   0.0   0.0   2.0  \nNumber of social security insurance policies  0.0   0.0   0.0   0.0   2.0  \nCARAVAN POLICY                                0.0   0.0   0.0   0.0   1.0  \n\n[86 rows x 8 columns]",
      "text/html": "<div>\n<style scoped>\n    .dataframe tbody tr th:only-of-type {\n        vertical-align: middle;\n    }\n\n    .dataframe tbody tr th {\n        vertical-align: top;\n    }\n\n    .dataframe thead th {\n        text-align: right;\n    }\n</style>\n<table border=\"1\" class=\"dataframe\">\n  <thead>\n    <tr style=\"text-align: right;\">\n      <th></th>\n      <th>count</th>\n      <th>mean</th>\n      <th>std</th>\n      <th>min</th>\n      <th>25%</th>\n      <th>50%</th>\n      <th>75%</th>\n      <th>max</th>\n    </tr>\n  </thead>\n  <tbody>\n    <tr>\n      <th>Customer Subtype</th>\n      <td>5822.0</td>\n      <td>24.253349</td>\n      <td>12.846706</td>\n      <td>1.0</td>\n      <td>10.0</td>\n      <td>30.0</td>\n      <td>35.0</td>\n      <td>41.0</td>\n    </tr>\n    <tr>\n      <th>Number of houses</th>\n      <td>5822.0</td>\n      <td>1.110615</td>\n      <td>0.405842</td>\n      <td>1.0</td>\n      <td>1.0</td>\n      <td>1.0</td>\n      <td>1.0</td>\n      <td>10.0</td>\n    </tr>\n    <tr>\n      <th>Avg size household</th>\n      <td>5822.0</td>\n      <td>2.678805</td>\n      <td>0.789835</td>\n      <td>1.0</td>\n      <td>2.0</td>\n      <td>3.0</td>\n      <td>3.0</td>\n      <td>5.0</td>\n    </tr>\n    <tr>\n      <th>Avg Age</th>\n      <td>5822.0</td>\n      <td>2.991240</td>\n      <td>0.814589</td>\n      <td>1.0</td>\n      <td>2.0</td>\n      <td>3.0</td>\n      <td>3.0</td>\n      <td>6.0</td>\n    </tr>\n    <tr>\n      <th>Customer main type</th>\n      <td>5822.0</td>\n      <td>5.773617</td>\n      <td>2.856760</td>\n      <td>1.0</td>\n      <td>3.0</td>\n      <td>7.0</td>\n      <td>8.0</td>\n      <td>10.0</td>\n    </tr>\n    <tr>\n      <th>...</th>\n      <td>...</td>\n      <td>...</td>\n      <td>...</td>\n      <td>...</td>\n      <td>...</td>\n      <td>...</td>\n      <td>...</td>\n      <td>...</td>\n    </tr>\n    <tr>\n      <th>Number of boat policies</th>\n      <td>5822.0</td>\n      <td>0.006012</td>\n      <td>0.081632</td>\n      <td>0.0</td>\n      <td>0.0</td>\n      <td>0.0</td>\n      <td>0.0</td>\n      <td>2.0</td>\n    </tr>\n    <tr>\n      <th>Number of bicycle policies</th>\n      <td>5822.0</td>\n      <td>0.031776</td>\n      <td>0.210986</td>\n      <td>0.0</td>\n      <td>0.0</td>\n      <td>0.0</td>\n      <td>0.0</td>\n      <td>3.0</td>\n    </tr>\n    <tr>\n      <th>Number of property insurance policies</th>\n      <td>5822.0</td>\n      <td>0.007901</td>\n      <td>0.090463</td>\n      <td>0.0</td>\n      <td>0.0</td>\n      <td>0.0</td>\n      <td>0.0</td>\n      <td>2.0</td>\n    </tr>\n    <tr>\n      <th>Number of social security insurance policies</th>\n      <td>5822.0</td>\n      <td>0.014256</td>\n      <td>0.119996</td>\n      <td>0.0</td>\n      <td>0.0</td>\n      <td>0.0</td>\n      <td>0.0</td>\n      <td>2.0</td>\n    </tr>\n    <tr>\n      <th>CARAVAN POLICY</th>\n      <td>5822.0</td>\n      <td>0.059773</td>\n      <td>0.237087</td>\n      <td>0.0</td>\n      <td>0.0</td>\n      <td>0.0</td>\n      <td>0.0</td>\n      <td>1.0</td>\n    </tr>\n  </tbody>\n</table>\n<p>86 rows × 8 columns</p>\n</div>"
     },
     "execution_count": 55,
     "metadata": {},
     "output_type": "execute_result"
    }
   ],
   "source": [
    "# data exploration\n",
    "sns.countplot(x = df[\"CARAVAN POLICY\"])\n",
    "plt.show()\n",
    "\n",
    "print(\"Positive instances: \" + str(df[\"CARAVAN POLICY\"].sum()) + \"\")\n",
    "print(\"Negative instances: \" + str(len(df.loc[df[\"CARAVAN POLICY\"] == 0])))\n",
    "\n",
    "df.describe().T"
   ],
   "metadata": {
    "collapsed": false
   }
  },
  {
   "cell_type": "markdown",
   "source": [
    "Not very balanced dataset"
   ],
   "metadata": {
    "collapsed": false
   }
  },
  {
   "cell_type": "markdown",
   "source": [
    "## Assignment 1\n",
    "### Describe the actual or potential customers and possibly explain why these customers buy a caravan policy.\n",
    "\n",
    "1.1:\n",
    "The purpose of assignment 1 is to give a clear insight to why customers have a caravan insurance\n",
    "policy and how these customers are different from other customers. Descriptions can be based on\n",
    "regression equations, decision trees, linguistic descriptions, graphical representations or any other\n",
    "form. The descriptions and accompanying interpretation must be comprehensible, useful and\n",
    "actionable for a marketing professional with no prior knowledge of data mining.\n",
    "\n",
    "1.2:\n",
    "Compare some different techniques and/or settings of parameters to see how well they perform\n",
    "on this problem. For this comparison you may assume some basic knowledge about data mining\n",
    "with the reader. In Appendix B details are provided how to use scikit-learn For feature selectio"
   ],
   "metadata": {
    "collapsed": false
   }
  },
  {
   "cell_type": "code",
   "execution_count": 56,
   "outputs": [],
   "source": [
    "# Approaches:\n",
    "# logistic regression with lasso regularization (good explainability)\n",
    "# decision trees or decision rules, output the paths that lead to buying caravan insurance\n",
    "# KNN\n",
    "# linguistic descriptions: interpret the models\n",
    "# graphical representations: Bar-chart with positive and negative contribution derived from logistic regression"
   ],
   "metadata": {
    "collapsed": false
   }
  },
  {
   "cell_type": "code",
   "execution_count": 57,
   "outputs": [],
   "source": [
    "# Train Test Split\n",
    "from sklearn.model_selection import train_test_split\n",
    "\n",
    "X = df.drop('CARAVAN POLICY', axis=1)\n",
    "y = df[\"CARAVAN POLICY\"]\n",
    "\n",
    "X_train, X_valid, y_train, y_valid = train_test_split(X, y, test_size=.3,\n",
    "                                                      random_state=12341234)"
   ],
   "metadata": {
    "collapsed": false
   }
  },
  {
   "cell_type": "code",
   "execution_count": 86,
   "outputs": [
    {
     "name": "stdout",
     "output_type": "stream",
     "text": [
      "Index([], dtype='object')\n"
     ]
    },
    {
     "data": {
      "text/plain": "Index(['Contribution surfboard policies', 'Number of surfboard policies'], dtype='object')"
     },
     "execution_count": 86,
     "metadata": {},
     "output_type": "execute_result"
    }
   ],
   "source": [
    "# check if there are features which have the same number for more than 100% of the cases, i.e zero variance\n",
    "print(df.columns[df.nunique() == 1])\n",
    "X_train.columns[X_train.nunique() == 1]\n"
   ],
   "metadata": {
    "collapsed": false
   }
  },
  {
   "cell_type": "code",
   "execution_count": 92,
   "outputs": [
    {
     "name": "stdout",
     "output_type": "stream",
     "text": [
      "(5822, 85)\n"
     ]
    },
    {
     "ename": "TypeError",
     "evalue": "fit() missing 1 required positional argument: 'y'",
     "output_type": "error",
     "traceback": [
      "\u001B[1;31m---------------------------------------------------------------------------\u001B[0m",
      "\u001B[1;31mTypeError\u001B[0m                                 Traceback (most recent call last)",
      "\u001B[1;32m<ipython-input-92-f8c9a5f65953>\u001B[0m in \u001B[0;36m<module>\u001B[1;34m\u001B[0m\n\u001B[0;32m      3\u001B[0m \u001B[0mprint\u001B[0m\u001B[1;33m(\u001B[0m\u001B[0mX\u001B[0m\u001B[1;33m.\u001B[0m\u001B[0mshape\u001B[0m\u001B[1;33m)\u001B[0m\u001B[1;33m\u001B[0m\u001B[1;33m\u001B[0m\u001B[0m\n\u001B[0;32m      4\u001B[0m \u001B[1;33m\u001B[0m\u001B[0m\n\u001B[1;32m----> 5\u001B[1;33m \u001B[0mX_new\u001B[0m \u001B[1;33m=\u001B[0m \u001B[0mSelectKBest\u001B[0m\u001B[1;33m(\u001B[0m\u001B[0mchi2\u001B[0m\u001B[1;33m,\u001B[0m \u001B[0mk\u001B[0m\u001B[1;33m=\u001B[0m\u001B[1;36m20\u001B[0m\u001B[1;33m)\u001B[0m\u001B[1;33m.\u001B[0m\u001B[0mfit\u001B[0m\u001B[1;33m(\u001B[0m\u001B[0mX\u001B[0m\u001B[1;33m)\u001B[0m\u001B[1;33m\u001B[0m\u001B[1;33m\u001B[0m\u001B[0m\n\u001B[0m\u001B[0;32m      6\u001B[0m \u001B[0mprint\u001B[0m\u001B[1;33m(\u001B[0m\u001B[0mX_new\u001B[0m\u001B[1;33m)\u001B[0m\u001B[1;33m\u001B[0m\u001B[1;33m\u001B[0m\u001B[0m\n\u001B[0;32m      7\u001B[0m \u001B[0mX_new\u001B[0m\u001B[1;33m.\u001B[0m\u001B[0mtransform\u001B[0m\u001B[1;33m(\u001B[0m\u001B[0my\u001B[0m\u001B[1;33m)\u001B[0m\u001B[1;33m\u001B[0m\u001B[1;33m\u001B[0m\u001B[0m\n",
      "\u001B[1;31mTypeError\u001B[0m: fit() missing 1 required positional argument: 'y'"
     ]
    }
   ],
   "source": [
    "from sklearn.feature_selection import SelectKBest\n",
    "from sklearn.feature_selection import chi2\n",
    "print(X.shape)\n",
    "\n",
    "X_new = SelectKBest(chi2, k=20).fit(X)\n",
    "print(X_new)\n",
    "X_new.transform(y)\n",
    "X_new.shape\n",
    "X_new"
   ],
   "metadata": {
    "collapsed": false
   }
  },
  {
   "cell_type": "code",
   "execution_count": null,
   "outputs": [],
   "source": [
    "from sklearn.model_selection import cross_val_predict\n",
    "from sklearn.neighbors import KNeighborsClassifier\n",
    "from sklearn.metrics import confusion_matrix\n",
    "from sklearn.metrics import accuracy_score\n",
    "from sklearn.tree import DecisionTreeClassifier\n",
    "from sklearn.linear_model import LogisticRegression\n",
    "from sklearn.naive_bayes import GaussianNB\n",
    "from sklearn.svm import SVC\n",
    "import copy"
   ],
   "metadata": {
    "collapsed": false
   }
  },
  {
   "cell_type": "code",
   "execution_count": 33,
   "outputs": [],
   "source": [
    "%%capture\n",
    "# Implement logistic regression with lasso regularization\n",
    "X_names = [x for x in df.columns if x != \"CARAVAN POLICY\"]\n",
    "X = np.array(df[X_names])\n",
    "Y = np.array(df[\"CARAVAN POLICY\"])\n",
    "\n",
    "Y_pred = cross_val_predict(LogisticRegression(max_iter = 1000,\n",
    "                                              penalty='l1',\n",
    "                                              solver='liblinear'),\n",
    "                           X, Y, cv = 10)\n",
    "conf_mat = confusion_matrix(Y, Y_pred)\n",
    "accuracy = accuracy_score(Y, Y_pred)"
   ],
   "metadata": {
    "collapsed": false
   }
  },
  {
   "cell_type": "code",
   "execution_count": 34,
   "outputs": [
    {
     "name": "stdout",
     "output_type": "stream",
     "text": [
      "[0 0 0 ... 1 0 0]\n",
      "[[5462   12]\n",
      " [ 346    2]]\n",
      "0.9385091034008932\n"
     ]
    }
   ],
   "source": [
    "print(Y)\n",
    "print(conf_mat)\n",
    "print(accuracy)"
   ],
   "metadata": {
    "collapsed": false
   }
  },
  {
   "cell_type": "code",
   "execution_count": 40,
   "outputs": [
    {
     "data": {
      "text/plain": "0.9398832016489179"
     },
     "execution_count": 40,
     "metadata": {},
     "output_type": "execute_result"
    }
   ],
   "source": [
    "from sklearn.pipeline import make_pipeline\n",
    "from sklearn.feature_selection import SelectKBest\n",
    "from sklearn.feature_selection import chi2\n",
    "from sklearn.feature_selection import RFE\n",
    "\n",
    "classifier = LogisticRegression()\n",
    "pipeClassifier = make_pipeline(SelectKBest(chi2, k=8), classifier)\n",
    "#k is the number of variables selected\n",
    "pipeClassifier.fit(X, Y)\n",
    "\n",
    "pipeClassifier.score(X, Y)"
   ],
   "metadata": {
    "collapsed": false
   }
  },
  {
   "cell_type": "markdown",
   "source": [
    "## Assignment 2\n",
    "### Select customers from a test file to send information to. The file with those customers will be provided on the day of lab’s deadline.\n",
    "\n",
    "The purpose of assignment 2 is to find a set of 800 customers from the test set that contains the\n",
    "most caravan policy owners. Use your most accurate model to select the 800 most likely policy\n",
    "owners."
   ],
   "metadata": {
    "collapsed": false
   }
  },
  {
   "cell_type": "markdown",
   "source": [],
   "metadata": {
    "collapsed": false
   }
  }
 ],
 "metadata": {
  "kernelspec": {
   "display_name": "Python 3",
   "language": "python",
   "name": "python3"
  },
  "language_info": {
   "codemirror_mode": {
    "name": "ipython",
    "version": 2
   },
   "file_extension": ".py",
   "mimetype": "text/x-python",
   "name": "python",
   "nbconvert_exporter": "python",
   "pygments_lexer": "ipython2",
   "version": "2.7.6"
  }
 },
 "nbformat": 4,
 "nbformat_minor": 0
}
